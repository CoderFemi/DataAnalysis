{
 "cells": [
  {
   "cell_type": "markdown",
   "metadata": {},
   "source": [
    "# COVID-19 WORLD VACCINATION PROGRESS\n",
    "\n",
    "The dataset was obtained from kaggle.com and represents the data of vaccinated people as at current date.\n",
    "\n",
    "The pandas library will be used to load, clean, and filter the data. Matplotlib and Seaborn will be used to provide visualisation for obtaining clear insights on the data being presented."
   ]
  },
  {
   "cell_type": "markdown",
   "metadata": {},
   "source": [
    "## Downloading the Dataset\n",
    "\n",
    "The dataset will be downloaded from kaggle.com using the opendatasets python library."
   ]
  },
  {
   "cell_type": "code",
   "execution_count": 262,
   "metadata": {},
   "outputs": [],
   "source": [
    "# !pip install jovian opendatasets --upgrade --quiet"
   ]
  },
  {
   "cell_type": "code",
   "execution_count": 263,
   "metadata": {},
   "outputs": [],
   "source": [
    "dataset_url = 'https://www.kaggle.com/gpreda/covid-world-vaccination-progress'"
   ]
  },
  {
   "cell_type": "code",
   "execution_count": 264,
   "metadata": {},
   "outputs": [
    {
     "name": "stdout",
     "output_type": "stream",
     "text": [
      "Skipping, found downloaded files in \"./covid-world-vaccination-progress\" (use force=True to force download)\n"
     ]
    }
   ],
   "source": [
    "import opendatasets as od\n",
    "od.download(dataset_url)"
   ]
  },
  {
   "cell_type": "code",
   "execution_count": 265,
   "metadata": {},
   "outputs": [],
   "source": [
    "data_dir = './covid-world-vaccination-progress'"
   ]
  },
  {
   "cell_type": "code",
   "execution_count": 266,
   "metadata": {},
   "outputs": [
    {
     "data": {
      "text/plain": [
       "['country_vaccinations_by_manufacturer.csv', 'country_vaccinations.csv']"
      ]
     },
     "execution_count": 266,
     "metadata": {},
     "output_type": "execute_result"
    }
   ],
   "source": [
    "import os\n",
    "os.listdir(data_dir)"
   ]
  },
  {
   "cell_type": "markdown",
   "metadata": {},
   "source": [
    "## Data Preparation and Cleaning\n",
    "\n",
    "This section will be devoted to cleaning the data, filling in missing data etc."
   ]
  },
  {
   "cell_type": "code",
   "execution_count": 271,
   "metadata": {},
   "outputs": [],
   "source": [
    "import pandas as pd"
   ]
  },
  {
   "cell_type": "code",
   "execution_count": 272,
   "metadata": {},
   "outputs": [],
   "source": [
    "covid_df = pd.read_csv(data_dir + '/country_vaccinations.csv')"
   ]
  },
  {
   "cell_type": "markdown",
   "metadata": {},
   "source": [
    "View the first five entries to get a feel of what the data looks like."
   ]
  },
  {
   "cell_type": "code",
   "execution_count": 273,
   "metadata": {},
   "outputs": [
    {
     "data": {
      "text/html": [
       "<div>\n",
       "<style scoped>\n",
       "    .dataframe tbody tr th:only-of-type {\n",
       "        vertical-align: middle;\n",
       "    }\n",
       "\n",
       "    .dataframe tbody tr th {\n",
       "        vertical-align: top;\n",
       "    }\n",
       "\n",
       "    .dataframe thead th {\n",
       "        text-align: right;\n",
       "    }\n",
       "</style>\n",
       "<table border=\"1\" class=\"dataframe\">\n",
       "  <thead>\n",
       "    <tr style=\"text-align: right;\">\n",
       "      <th></th>\n",
       "      <th>country</th>\n",
       "      <th>iso_code</th>\n",
       "      <th>date</th>\n",
       "      <th>total_vaccinations</th>\n",
       "      <th>people_vaccinated</th>\n",
       "      <th>people_fully_vaccinated</th>\n",
       "      <th>daily_vaccinations_raw</th>\n",
       "      <th>daily_vaccinations</th>\n",
       "      <th>total_vaccinations_per_hundred</th>\n",
       "      <th>people_vaccinated_per_hundred</th>\n",
       "      <th>people_fully_vaccinated_per_hundred</th>\n",
       "      <th>daily_vaccinations_per_million</th>\n",
       "      <th>vaccines</th>\n",
       "      <th>source_name</th>\n",
       "      <th>source_website</th>\n",
       "    </tr>\n",
       "  </thead>\n",
       "  <tbody>\n",
       "    <tr>\n",
       "      <th>0</th>\n",
       "      <td>Afghanistan</td>\n",
       "      <td>AFG</td>\n",
       "      <td>2021-02-22</td>\n",
       "      <td>0.0</td>\n",
       "      <td>0.0</td>\n",
       "      <td>NaN</td>\n",
       "      <td>NaN</td>\n",
       "      <td>NaN</td>\n",
       "      <td>0.0</td>\n",
       "      <td>0.0</td>\n",
       "      <td>NaN</td>\n",
       "      <td>NaN</td>\n",
       "      <td>Johnson&amp;Johnson, Oxford/AstraZeneca, Pfizer/Bi...</td>\n",
       "      <td>World Health Organization</td>\n",
       "      <td>https://covid19.who.int/</td>\n",
       "    </tr>\n",
       "    <tr>\n",
       "      <th>1</th>\n",
       "      <td>Afghanistan</td>\n",
       "      <td>AFG</td>\n",
       "      <td>2021-02-23</td>\n",
       "      <td>NaN</td>\n",
       "      <td>NaN</td>\n",
       "      <td>NaN</td>\n",
       "      <td>NaN</td>\n",
       "      <td>1367.0</td>\n",
       "      <td>NaN</td>\n",
       "      <td>NaN</td>\n",
       "      <td>NaN</td>\n",
       "      <td>34.0</td>\n",
       "      <td>Johnson&amp;Johnson, Oxford/AstraZeneca, Pfizer/Bi...</td>\n",
       "      <td>World Health Organization</td>\n",
       "      <td>https://covid19.who.int/</td>\n",
       "    </tr>\n",
       "    <tr>\n",
       "      <th>2</th>\n",
       "      <td>Afghanistan</td>\n",
       "      <td>AFG</td>\n",
       "      <td>2021-02-24</td>\n",
       "      <td>NaN</td>\n",
       "      <td>NaN</td>\n",
       "      <td>NaN</td>\n",
       "      <td>NaN</td>\n",
       "      <td>1367.0</td>\n",
       "      <td>NaN</td>\n",
       "      <td>NaN</td>\n",
       "      <td>NaN</td>\n",
       "      <td>34.0</td>\n",
       "      <td>Johnson&amp;Johnson, Oxford/AstraZeneca, Pfizer/Bi...</td>\n",
       "      <td>World Health Organization</td>\n",
       "      <td>https://covid19.who.int/</td>\n",
       "    </tr>\n",
       "    <tr>\n",
       "      <th>3</th>\n",
       "      <td>Afghanistan</td>\n",
       "      <td>AFG</td>\n",
       "      <td>2021-02-25</td>\n",
       "      <td>NaN</td>\n",
       "      <td>NaN</td>\n",
       "      <td>NaN</td>\n",
       "      <td>NaN</td>\n",
       "      <td>1367.0</td>\n",
       "      <td>NaN</td>\n",
       "      <td>NaN</td>\n",
       "      <td>NaN</td>\n",
       "      <td>34.0</td>\n",
       "      <td>Johnson&amp;Johnson, Oxford/AstraZeneca, Pfizer/Bi...</td>\n",
       "      <td>World Health Organization</td>\n",
       "      <td>https://covid19.who.int/</td>\n",
       "    </tr>\n",
       "    <tr>\n",
       "      <th>4</th>\n",
       "      <td>Afghanistan</td>\n",
       "      <td>AFG</td>\n",
       "      <td>2021-02-26</td>\n",
       "      <td>NaN</td>\n",
       "      <td>NaN</td>\n",
       "      <td>NaN</td>\n",
       "      <td>NaN</td>\n",
       "      <td>1367.0</td>\n",
       "      <td>NaN</td>\n",
       "      <td>NaN</td>\n",
       "      <td>NaN</td>\n",
       "      <td>34.0</td>\n",
       "      <td>Johnson&amp;Johnson, Oxford/AstraZeneca, Pfizer/Bi...</td>\n",
       "      <td>World Health Organization</td>\n",
       "      <td>https://covid19.who.int/</td>\n",
       "    </tr>\n",
       "  </tbody>\n",
       "</table>\n",
       "</div>"
      ],
      "text/plain": [
       "       country iso_code        date  total_vaccinations  people_vaccinated  \\\n",
       "0  Afghanistan      AFG  2021-02-22                 0.0                0.0   \n",
       "1  Afghanistan      AFG  2021-02-23                 NaN                NaN   \n",
       "2  Afghanistan      AFG  2021-02-24                 NaN                NaN   \n",
       "3  Afghanistan      AFG  2021-02-25                 NaN                NaN   \n",
       "4  Afghanistan      AFG  2021-02-26                 NaN                NaN   \n",
       "\n",
       "   people_fully_vaccinated  daily_vaccinations_raw  daily_vaccinations  \\\n",
       "0                      NaN                     NaN                 NaN   \n",
       "1                      NaN                     NaN              1367.0   \n",
       "2                      NaN                     NaN              1367.0   \n",
       "3                      NaN                     NaN              1367.0   \n",
       "4                      NaN                     NaN              1367.0   \n",
       "\n",
       "   total_vaccinations_per_hundred  people_vaccinated_per_hundred  \\\n",
       "0                             0.0                            0.0   \n",
       "1                             NaN                            NaN   \n",
       "2                             NaN                            NaN   \n",
       "3                             NaN                            NaN   \n",
       "4                             NaN                            NaN   \n",
       "\n",
       "   people_fully_vaccinated_per_hundred  daily_vaccinations_per_million  \\\n",
       "0                                  NaN                             NaN   \n",
       "1                                  NaN                            34.0   \n",
       "2                                  NaN                            34.0   \n",
       "3                                  NaN                            34.0   \n",
       "4                                  NaN                            34.0   \n",
       "\n",
       "                                            vaccines  \\\n",
       "0  Johnson&Johnson, Oxford/AstraZeneca, Pfizer/Bi...   \n",
       "1  Johnson&Johnson, Oxford/AstraZeneca, Pfizer/Bi...   \n",
       "2  Johnson&Johnson, Oxford/AstraZeneca, Pfizer/Bi...   \n",
       "3  Johnson&Johnson, Oxford/AstraZeneca, Pfizer/Bi...   \n",
       "4  Johnson&Johnson, Oxford/AstraZeneca, Pfizer/Bi...   \n",
       "\n",
       "                 source_name            source_website  \n",
       "0  World Health Organization  https://covid19.who.int/  \n",
       "1  World Health Organization  https://covid19.who.int/  \n",
       "2  World Health Organization  https://covid19.who.int/  \n",
       "3  World Health Organization  https://covid19.who.int/  \n",
       "4  World Health Organization  https://covid19.who.int/  "
      ]
     },
     "execution_count": 273,
     "metadata": {},
     "output_type": "execute_result"
    }
   ],
   "source": [
    "covid_df.head()"
   ]
  },
  {
   "cell_type": "markdown",
   "metadata": {},
   "source": [
    "View the range of data, null value-counts, shape of the data and data types."
   ]
  },
  {
   "cell_type": "code",
   "execution_count": 274,
   "metadata": {},
   "outputs": [
    {
     "name": "stdout",
     "output_type": "stream",
     "text": [
      "<class 'pandas.core.frame.DataFrame'>\n",
      "RangeIndex: 57460 entries, 0 to 57459\n",
      "Data columns (total 15 columns):\n",
      " #   Column                               Non-Null Count  Dtype  \n",
      "---  ------                               --------------  -----  \n",
      " 0   country                              57460 non-null  object \n",
      " 1   iso_code                             57460 non-null  object \n",
      " 2   date                                 57460 non-null  object \n",
      " 3   total_vaccinations                   31034 non-null  float64\n",
      " 4   people_vaccinated                    29469 non-null  float64\n",
      " 5   people_fully_vaccinated              26655 non-null  float64\n",
      " 6   daily_vaccinations_raw               25416 non-null  float64\n",
      " 7   daily_vaccinations                   57206 non-null  float64\n",
      " 8   total_vaccinations_per_hundred       31034 non-null  float64\n",
      " 9   people_vaccinated_per_hundred        29469 non-null  float64\n",
      " 10  people_fully_vaccinated_per_hundred  26655 non-null  float64\n",
      " 11  daily_vaccinations_per_million       57206 non-null  float64\n",
      " 12  vaccines                             57460 non-null  object \n",
      " 13  source_name                          57460 non-null  object \n",
      " 14  source_website                       57460 non-null  object \n",
      "dtypes: float64(9), object(6)\n",
      "memory usage: 6.6+ MB\n"
     ]
    }
   ],
   "source": [
    "covid_df.info()"
   ]
  },
  {
   "cell_type": "markdown",
   "metadata": {},
   "source": [
    "**Points to Note**\n",
    " - The numerical columns all have some null values. These will be dropped from any subsequent calculations.\n",
    " - There are some columns not relevant to this analysis, and will be dropped subsequently.\n",
    " - The date column is of type object. This will be converted to type datetime64."
   ]
  },
  {
   "cell_type": "markdown",
   "metadata": {},
   "source": [
    "View unique values for categorical data"
   ]
  },
  {
   "cell_type": "code",
   "execution_count": 275,
   "metadata": {},
   "outputs": [],
   "source": [
    "unique_values = covid_df[['country', 'vaccines']].agg(lambda x:[x.nunique()])"
   ]
  },
  {
   "cell_type": "code",
   "execution_count": 276,
   "metadata": {},
   "outputs": [
    {
     "data": {
      "text/html": [
       "<div>\n",
       "<style scoped>\n",
       "    .dataframe tbody tr th:only-of-type {\n",
       "        vertical-align: middle;\n",
       "    }\n",
       "\n",
       "    .dataframe tbody tr th {\n",
       "        vertical-align: top;\n",
       "    }\n",
       "\n",
       "    .dataframe thead th {\n",
       "        text-align: right;\n",
       "    }\n",
       "</style>\n",
       "<table border=\"1\" class=\"dataframe\">\n",
       "  <thead>\n",
       "    <tr style=\"text-align: right;\">\n",
       "      <th></th>\n",
       "      <th>country</th>\n",
       "      <th>vaccines</th>\n",
       "    </tr>\n",
       "  </thead>\n",
       "  <tbody>\n",
       "    <tr>\n",
       "      <th>0</th>\n",
       "      <td>223</td>\n",
       "      <td>76</td>\n",
       "    </tr>\n",
       "  </tbody>\n",
       "</table>\n",
       "</div>"
      ],
      "text/plain": [
       "   country  vaccines\n",
       "0      223        76"
      ]
     },
     "execution_count": 276,
     "metadata": {},
     "output_type": "execute_result"
    }
   ],
   "source": [
    "unique_values"
   ]
  },
  {
   "cell_type": "markdown",
   "metadata": {},
   "source": [
    "There are 76 unique entries for vaccines, but each entry contains multiple duplicated vaccine types. This will be cleaned and a completely unique vaccine dataframe will be generated."
   ]
  },
  {
   "cell_type": "markdown",
   "metadata": {},
   "source": [
    "Drop unneeded columns:"
   ]
  },
  {
   "cell_type": "code",
   "execution_count": 277,
   "metadata": {},
   "outputs": [],
   "source": [
    "covid_df.drop(['iso_code', 'daily_vaccinations_raw', 'source_name','source_website'], axis=1, inplace=True)"
   ]
  },
  {
   "cell_type": "markdown",
   "metadata": {},
   "source": [
    "Convert date column type:"
   ]
  },
  {
   "cell_type": "code",
   "execution_count": 278,
   "metadata": {},
   "outputs": [
    {
     "data": {
      "text/plain": [
       "dtype('<M8[ns]')"
      ]
     },
     "execution_count": 278,
     "metadata": {},
     "output_type": "execute_result"
    }
   ],
   "source": [
    "covid_df['date'] = pd.to_datetime(covid_df.date)\n",
    "covid_df.date.dtype"
   ]
  },
  {
   "cell_type": "markdown",
   "metadata": {},
   "source": [
    "Create a dataframe containing unique values of vaccines, and all the countries which use them."
   ]
  },
  {
   "cell_type": "code",
   "execution_count": 279,
   "metadata": {},
   "outputs": [],
   "source": [
    "def create_df(df):\n",
    "    arr = []\n",
    "    prev_str = ''\n",
    "    for country, vac_str in df.iterrows():\n",
    "        vac_str = vac_str.vaccines\n",
    "        if vac_str == prev_str: continue\n",
    "        for vac_name in vac_str.split(','):\n",
    "            vac_name = vac_name.strip()\n",
    "            if vac_name not in arr:\n",
    "                arr.append(vac_name)\n",
    "                df.loc[:, vac_name] = False\n",
    "            df.at[country, vac_name] = True\n",
    "        prev_str = vac_str\n",
    "    return df"
   ]
  },
  {
   "cell_type": "code",
   "execution_count": 280,
   "metadata": {},
   "outputs": [],
   "source": [
    "vaccine_list = covid_df[['country','vaccines']]\n",
    "vaccine_list.set_index('country', drop=True, inplace=True)"
   ]
  },
  {
   "cell_type": "code",
   "execution_count": 281,
   "metadata": {
    "scrolled": true
   },
   "outputs": [
    {
     "name": "stderr",
     "output_type": "stream",
     "text": [
      "/opt/conda/lib/python3.9/site-packages/pandas/core/indexing.py:1667: SettingWithCopyWarning: \n",
      "A value is trying to be set on a copy of a slice from a DataFrame.\n",
      "Try using .loc[row_indexer,col_indexer] = value instead\n",
      "\n",
      "See the caveats in the documentation: https://pandas.pydata.org/pandas-docs/stable/user_guide/indexing.html#returning-a-view-versus-a-copy\n",
      "  self.obj[key] = value\n",
      "/opt/conda/lib/python3.9/site-packages/pandas/core/indexing.py:1817: SettingWithCopyWarning: \n",
      "A value is trying to be set on a copy of a slice from a DataFrame.\n",
      "Try using .loc[row_indexer,col_indexer] = value instead\n",
      "\n",
      "See the caveats in the documentation: https://pandas.pydata.org/pandas-docs/stable/user_guide/indexing.html#returning-a-view-versus-a-copy\n",
      "  self._setitem_single_column(loc, value, pi)\n"
     ]
    }
   ],
   "source": [
    "vaccine_df = create_df(vaccine_list)"
   ]
  },
  {
   "cell_type": "code",
   "execution_count": 282,
   "metadata": {},
   "outputs": [],
   "source": [
    "vaccine_df.drop('vaccines', axis=1, inplace=True)"
   ]
  },
  {
   "cell_type": "code",
   "execution_count": 283,
   "metadata": {},
   "outputs": [
    {
     "data": {
      "text/html": [
       "<div>\n",
       "<style scoped>\n",
       "    .dataframe tbody tr th:only-of-type {\n",
       "        vertical-align: middle;\n",
       "    }\n",
       "\n",
       "    .dataframe tbody tr th {\n",
       "        vertical-align: top;\n",
       "    }\n",
       "\n",
       "    .dataframe thead th {\n",
       "        text-align: right;\n",
       "    }\n",
       "</style>\n",
       "<table border=\"1\" class=\"dataframe\">\n",
       "  <thead>\n",
       "    <tr style=\"text-align: right;\">\n",
       "      <th></th>\n",
       "      <th>Johnson&amp;Johnson</th>\n",
       "      <th>Oxford/AstraZeneca</th>\n",
       "      <th>Pfizer/BioNTech</th>\n",
       "      <th>Sinopharm/Beijing</th>\n",
       "      <th>Sinovac</th>\n",
       "      <th>Sputnik V</th>\n",
       "      <th>Moderna</th>\n",
       "      <th>CanSino</th>\n",
       "      <th>Covaxin</th>\n",
       "      <th>Sinopharm/Wuhan</th>\n",
       "      <th>ZF2001</th>\n",
       "      <th>Abdala</th>\n",
       "      <th>Soberana02</th>\n",
       "      <th>COVIran Barekat</th>\n",
       "      <th>QazVac</th>\n",
       "      <th>Sputnik Light</th>\n",
       "      <th>EpiVacCorona</th>\n",
       "      <th>Medigen</th>\n",
       "    </tr>\n",
       "    <tr>\n",
       "      <th>country</th>\n",
       "      <th></th>\n",
       "      <th></th>\n",
       "      <th></th>\n",
       "      <th></th>\n",
       "      <th></th>\n",
       "      <th></th>\n",
       "      <th></th>\n",
       "      <th></th>\n",
       "      <th></th>\n",
       "      <th></th>\n",
       "      <th></th>\n",
       "      <th></th>\n",
       "      <th></th>\n",
       "      <th></th>\n",
       "      <th></th>\n",
       "      <th></th>\n",
       "      <th></th>\n",
       "      <th></th>\n",
       "    </tr>\n",
       "  </thead>\n",
       "  <tbody>\n",
       "    <tr>\n",
       "      <th>Afghanistan</th>\n",
       "      <td>True</td>\n",
       "      <td>True</td>\n",
       "      <td>True</td>\n",
       "      <td>True</td>\n",
       "      <td>False</td>\n",
       "      <td>False</td>\n",
       "      <td>False</td>\n",
       "      <td>False</td>\n",
       "      <td>False</td>\n",
       "      <td>False</td>\n",
       "      <td>False</td>\n",
       "      <td>False</td>\n",
       "      <td>False</td>\n",
       "      <td>False</td>\n",
       "      <td>False</td>\n",
       "      <td>False</td>\n",
       "      <td>False</td>\n",
       "      <td>False</td>\n",
       "    </tr>\n",
       "    <tr>\n",
       "      <th>Afghanistan</th>\n",
       "      <td>True</td>\n",
       "      <td>True</td>\n",
       "      <td>True</td>\n",
       "      <td>True</td>\n",
       "      <td>False</td>\n",
       "      <td>False</td>\n",
       "      <td>False</td>\n",
       "      <td>False</td>\n",
       "      <td>False</td>\n",
       "      <td>False</td>\n",
       "      <td>False</td>\n",
       "      <td>False</td>\n",
       "      <td>False</td>\n",
       "      <td>False</td>\n",
       "      <td>False</td>\n",
       "      <td>False</td>\n",
       "      <td>False</td>\n",
       "      <td>False</td>\n",
       "    </tr>\n",
       "    <tr>\n",
       "      <th>Afghanistan</th>\n",
       "      <td>True</td>\n",
       "      <td>True</td>\n",
       "      <td>True</td>\n",
       "      <td>True</td>\n",
       "      <td>False</td>\n",
       "      <td>False</td>\n",
       "      <td>False</td>\n",
       "      <td>False</td>\n",
       "      <td>False</td>\n",
       "      <td>False</td>\n",
       "      <td>False</td>\n",
       "      <td>False</td>\n",
       "      <td>False</td>\n",
       "      <td>False</td>\n",
       "      <td>False</td>\n",
       "      <td>False</td>\n",
       "      <td>False</td>\n",
       "      <td>False</td>\n",
       "    </tr>\n",
       "    <tr>\n",
       "      <th>Afghanistan</th>\n",
       "      <td>True</td>\n",
       "      <td>True</td>\n",
       "      <td>True</td>\n",
       "      <td>True</td>\n",
       "      <td>False</td>\n",
       "      <td>False</td>\n",
       "      <td>False</td>\n",
       "      <td>False</td>\n",
       "      <td>False</td>\n",
       "      <td>False</td>\n",
       "      <td>False</td>\n",
       "      <td>False</td>\n",
       "      <td>False</td>\n",
       "      <td>False</td>\n",
       "      <td>False</td>\n",
       "      <td>False</td>\n",
       "      <td>False</td>\n",
       "      <td>False</td>\n",
       "    </tr>\n",
       "    <tr>\n",
       "      <th>Afghanistan</th>\n",
       "      <td>True</td>\n",
       "      <td>True</td>\n",
       "      <td>True</td>\n",
       "      <td>True</td>\n",
       "      <td>False</td>\n",
       "      <td>False</td>\n",
       "      <td>False</td>\n",
       "      <td>False</td>\n",
       "      <td>False</td>\n",
       "      <td>False</td>\n",
       "      <td>False</td>\n",
       "      <td>False</td>\n",
       "      <td>False</td>\n",
       "      <td>False</td>\n",
       "      <td>False</td>\n",
       "      <td>False</td>\n",
       "      <td>False</td>\n",
       "      <td>False</td>\n",
       "    </tr>\n",
       "  </tbody>\n",
       "</table>\n",
       "</div>"
      ],
      "text/plain": [
       "             Johnson&Johnson  Oxford/AstraZeneca  Pfizer/BioNTech  \\\n",
       "country                                                             \n",
       "Afghanistan             True                True             True   \n",
       "Afghanistan             True                True             True   \n",
       "Afghanistan             True                True             True   \n",
       "Afghanistan             True                True             True   \n",
       "Afghanistan             True                True             True   \n",
       "\n",
       "             Sinopharm/Beijing  Sinovac  Sputnik V  Moderna  CanSino  Covaxin  \\\n",
       "country                                                                         \n",
       "Afghanistan               True    False      False    False    False    False   \n",
       "Afghanistan               True    False      False    False    False    False   \n",
       "Afghanistan               True    False      False    False    False    False   \n",
       "Afghanistan               True    False      False    False    False    False   \n",
       "Afghanistan               True    False      False    False    False    False   \n",
       "\n",
       "             Sinopharm/Wuhan  ZF2001  Abdala  Soberana02  COVIran Barekat  \\\n",
       "country                                                                     \n",
       "Afghanistan            False   False   False       False            False   \n",
       "Afghanistan            False   False   False       False            False   \n",
       "Afghanistan            False   False   False       False            False   \n",
       "Afghanistan            False   False   False       False            False   \n",
       "Afghanistan            False   False   False       False            False   \n",
       "\n",
       "             QazVac  Sputnik Light  EpiVacCorona  Medigen  \n",
       "country                                                    \n",
       "Afghanistan   False          False         False    False  \n",
       "Afghanistan   False          False         False    False  \n",
       "Afghanistan   False          False         False    False  \n",
       "Afghanistan   False          False         False    False  \n",
       "Afghanistan   False          False         False    False  "
      ]
     },
     "execution_count": 283,
     "metadata": {},
     "output_type": "execute_result"
    }
   ],
   "source": [
    "vaccine_df.head()"
   ]
  },
  {
   "cell_type": "markdown",
   "metadata": {},
   "source": [
    "## Exploratory Analysis and Visualization\n",
    "\n",
    "An exploratory analysis will be carried out on the data to show relationships between key variables."
   ]
  },
  {
   "cell_type": "code",
   "execution_count": 285,
   "metadata": {},
   "outputs": [],
   "source": [
    "import seaborn as sns\n",
    "import matplotlib\n",
    "import matplotlib.pyplot as plt\n",
    "from matplotlib.ticker import FuncFormatter\n",
    "%matplotlib inline\n",
    "\n",
    "sns.set_style('whitegrid')\n",
    "matplotlib.rcParams['font.size'] = 14\n",
    "matplotlib.rcParams['figure.figsize'] = (9, 5)\n",
    "matplotlib.rcParams['figure.facecolor'] = '#00000000'"
   ]
  },
  {
   "cell_type": "markdown",
   "metadata": {},
   "source": [
    "Majority of the columns (except daily_vaccinations) are rolling cumulative totals. Therefore, a single value will be picked at a certain point in time (most recent is November 2021) for each column to derive totals."
   ]
  },
  {
   "cell_type": "code",
   "execution_count": 286,
   "metadata": {
    "scrolled": false
   },
   "outputs": [
    {
     "data": {
      "text/html": [
       "<div>\n",
       "<style scoped>\n",
       "    .dataframe tbody tr th:only-of-type {\n",
       "        vertical-align: middle;\n",
       "    }\n",
       "\n",
       "    .dataframe tbody tr th {\n",
       "        vertical-align: top;\n",
       "    }\n",
       "\n",
       "    .dataframe thead th {\n",
       "        text-align: right;\n",
       "    }\n",
       "</style>\n",
       "<table border=\"1\" class=\"dataframe\">\n",
       "  <thead>\n",
       "    <tr style=\"text-align: right;\">\n",
       "      <th></th>\n",
       "      <th>country</th>\n",
       "      <th>total_vaccinations</th>\n",
       "      <th>people_vaccinated</th>\n",
       "      <th>people_fully_vaccinated</th>\n",
       "      <th>people_vaccinated_per_hundred</th>\n",
       "      <th>people_fully_vaccinated_per_hundred</th>\n",
       "    </tr>\n",
       "  </thead>\n",
       "  <tbody>\n",
       "    <tr>\n",
       "      <th>0</th>\n",
       "      <td>Afghanistan</td>\n",
       "      <td>5852810.0</td>\n",
       "      <td>3097293.0</td>\n",
       "      <td>2755517.0</td>\n",
       "      <td>7.78</td>\n",
       "      <td>6.92</td>\n",
       "    </tr>\n",
       "    <tr>\n",
       "      <th>1</th>\n",
       "      <td>Albania</td>\n",
       "      <td>2000104.0</td>\n",
       "      <td>1047822.0</td>\n",
       "      <td>924194.0</td>\n",
       "      <td>36.47</td>\n",
       "      <td>32.17</td>\n",
       "    </tr>\n",
       "    <tr>\n",
       "      <th>2</th>\n",
       "      <td>Algeria</td>\n",
       "      <td>11316115.0</td>\n",
       "      <td>6418827.0</td>\n",
       "      <td>4897288.0</td>\n",
       "      <td>14.39</td>\n",
       "      <td>10.98</td>\n",
       "    </tr>\n",
       "    <tr>\n",
       "      <th>3</th>\n",
       "      <td>Andorra</td>\n",
       "      <td>104534.0</td>\n",
       "      <td>54999.0</td>\n",
       "      <td>49535.0</td>\n",
       "      <td>71.10</td>\n",
       "      <td>64.04</td>\n",
       "    </tr>\n",
       "    <tr>\n",
       "      <th>4</th>\n",
       "      <td>Angola</td>\n",
       "      <td>7246966.0</td>\n",
       "      <td>5269623.0</td>\n",
       "      <td>1977343.0</td>\n",
       "      <td>15.53</td>\n",
       "      <td>5.83</td>\n",
       "    </tr>\n",
       "  </tbody>\n",
       "</table>\n",
       "</div>"
      ],
      "text/plain": [
       "       country  total_vaccinations  people_vaccinated  \\\n",
       "0  Afghanistan           5852810.0          3097293.0   \n",
       "1      Albania           2000104.0          1047822.0   \n",
       "2      Algeria          11316115.0          6418827.0   \n",
       "3      Andorra            104534.0            54999.0   \n",
       "4       Angola           7246966.0          5269623.0   \n",
       "\n",
       "   people_fully_vaccinated  people_vaccinated_per_hundred  \\\n",
       "0                2755517.0                           7.78   \n",
       "1                 924194.0                          36.47   \n",
       "2                4897288.0                          14.39   \n",
       "3                  49535.0                          71.10   \n",
       "4                1977343.0                          15.53   \n",
       "\n",
       "   people_fully_vaccinated_per_hundred  \n",
       "0                                 6.92  \n",
       "1                                32.17  \n",
       "2                                10.98  \n",
       "3                                64.04  \n",
       "4                                 5.83  "
      ]
     },
     "execution_count": 286,
     "metadata": {},
     "output_type": "execute_result"
    }
   ],
   "source": [
    "totals = covid_df.groupby('country')[['country','total_vaccinations', 'people_vaccinated','people_fully_vaccinated', 'people_vaccinated_per_hundred', 'people_fully_vaccinated_per_hundred']].max()\n",
    "totals.reset_index(drop=True, inplace=True)\n",
    "totals.head()"
   ]
  },
  {
   "cell_type": "code",
   "execution_count": 287,
   "metadata": {
    "scrolled": true
   },
   "outputs": [
    {
     "data": {
      "text/html": [
       "<div>\n",
       "<style scoped>\n",
       "    .dataframe tbody tr th:only-of-type {\n",
       "        vertical-align: middle;\n",
       "    }\n",
       "\n",
       "    .dataframe tbody tr th {\n",
       "        vertical-align: top;\n",
       "    }\n",
       "\n",
       "    .dataframe thead th {\n",
       "        text-align: right;\n",
       "    }\n",
       "</style>\n",
       "<table border=\"1\" class=\"dataframe\">\n",
       "  <thead>\n",
       "    <tr style=\"text-align: right;\">\n",
       "      <th></th>\n",
       "      <th>total_vaccinations</th>\n",
       "      <th>people_vaccinated</th>\n",
       "      <th>people_fully_vaccinated</th>\n",
       "      <th>people_vaccinated_per_hundred</th>\n",
       "      <th>people_fully_vaccinated_per_hundred</th>\n",
       "    </tr>\n",
       "  </thead>\n",
       "  <tbody>\n",
       "    <tr>\n",
       "      <th>count</th>\n",
       "      <td>223.00</td>\n",
       "      <td>223.00</td>\n",
       "      <td>223.00</td>\n",
       "      <td>223.00</td>\n",
       "      <td>223.00</td>\n",
       "    </tr>\n",
       "    <tr>\n",
       "      <th>mean</th>\n",
       "      <td>34160448.01</td>\n",
       "      <td>18494960.78</td>\n",
       "      <td>14598964.69</td>\n",
       "      <td>47.96</td>\n",
       "      <td>41.38</td>\n",
       "    </tr>\n",
       "    <tr>\n",
       "      <th>std</th>\n",
       "      <td>181014693.04</td>\n",
       "      <td>94609748.14</td>\n",
       "      <td>77956713.32</td>\n",
       "      <td>27.83</td>\n",
       "      <td>27.29</td>\n",
       "    </tr>\n",
       "    <tr>\n",
       "      <th>min</th>\n",
       "      <td>94.00</td>\n",
       "      <td>47.00</td>\n",
       "      <td>47.00</td>\n",
       "      <td>0.01</td>\n",
       "      <td>0.00</td>\n",
       "    </tr>\n",
       "    <tr>\n",
       "      <th>25%</th>\n",
       "      <td>323713.00</td>\n",
       "      <td>240328.00</td>\n",
       "      <td>165926.00</td>\n",
       "      <td>24.18</td>\n",
       "      <td>15.80</td>\n",
       "    </tr>\n",
       "    <tr>\n",
       "      <th>50%</th>\n",
       "      <td>2093453.00</td>\n",
       "      <td>1232357.00</td>\n",
       "      <td>901961.00</td>\n",
       "      <td>52.60</td>\n",
       "      <td>44.14</td>\n",
       "    </tr>\n",
       "    <tr>\n",
       "      <th>75%</th>\n",
       "      <td>12516503.50</td>\n",
       "      <td>6186241.00</td>\n",
       "      <td>5674501.00</td>\n",
       "      <td>71.53</td>\n",
       "      <td>65.27</td>\n",
       "    </tr>\n",
       "    <tr>\n",
       "      <th>max</th>\n",
       "      <td>2389568000.00</td>\n",
       "      <td>1155058478.00</td>\n",
       "      <td>1072454000.00</td>\n",
       "      <td>121.06</td>\n",
       "      <td>118.18</td>\n",
       "    </tr>\n",
       "  </tbody>\n",
       "</table>\n",
       "</div>"
      ],
      "text/plain": [
       "      total_vaccinations people_vaccinated people_fully_vaccinated  \\\n",
       "count             223.00            223.00                  223.00   \n",
       "mean         34160448.01       18494960.78             14598964.69   \n",
       "std         181014693.04       94609748.14             77956713.32   \n",
       "min                94.00             47.00                   47.00   \n",
       "25%            323713.00         240328.00               165926.00   \n",
       "50%           2093453.00        1232357.00               901961.00   \n",
       "75%          12516503.50        6186241.00              5674501.00   \n",
       "max        2389568000.00     1155058478.00           1072454000.00   \n",
       "\n",
       "      people_vaccinated_per_hundred people_fully_vaccinated_per_hundred  \n",
       "count                        223.00                              223.00  \n",
       "mean                          47.96                               41.38  \n",
       "std                           27.83                               27.29  \n",
       "min                            0.01                                0.00  \n",
       "25%                           24.18                               15.80  \n",
       "50%                           52.60                               44.14  \n",
       "75%                           71.53                               65.27  \n",
       "max                          121.06                              118.18  "
      ]
     },
     "execution_count": 287,
     "metadata": {},
     "output_type": "execute_result"
    }
   ],
   "source": [
    "totals.describe().apply(lambda s: s.apply('{0:.2f}'.format))"
   ]
  },
  {
   "cell_type": "markdown",
   "metadata": {},
   "source": [
    "The statistics laid out above reveals the following insight:\n",
    "- The highest number of total vaccinations for a country is 2.3 billion while the minimum is 94 people.\n",
    "- The highest ratio of vaccinations per hundred people is 121 vaccinations. This means the total population for that particular country is fully vaccinated. Meanwhile the minimum is 0."
   ]
  },
  {
   "cell_type": "code",
   "execution_count": 288,
   "metadata": {},
   "outputs": [
    {
     "data": {
      "image/png": "[encoded data removed]",
      "text/plain": [
       "<Figure size 648x360 with 1 Axes>"
      ]
     },
     "metadata": {
      "needs_background": "light"
     },
     "output_type": "display_data"
    }
   ],
   "source": [
    "ax = sns.histplot(data=totals, x='total_vaccinations', log_scale=True, kde=True);\n",
    "ax.set_ylabel('Country Count')\n",
    "ax.set_title('Distribution of Total Vaccinations Per Country');"
   ]
  },
  {
   "cell_type": "markdown",
   "metadata": {},
   "source": [
    "The histogram above shows that majority of the countries have administered between 15,000 (10^5) and 100,000,000 (10^8) vaccinations. The data is highly skewed, it is therefore shown in units of log space, to show the actual shape of the data."
   ]
  },
  {
   "cell_type": "code",
   "execution_count": 289,
   "metadata": {},
   "outputs": [
    {
     "data": {
      "image/png": "[encoded data removed]",
      "text/plain": [
       "<Figure size 648x360 with 1 Axes>"
      ]
     },
     "metadata": {
      "needs_background": "light"
     },
     "output_type": "display_data"
    }
   ],
   "source": [
    "ax2 = sns.histplot(data=totals, x='people_fully_vaccinated', log_scale=True, kde=True);\n",
    "ax2.set_ylabel('Country Count')\n",
    "ax2.set_title('Distribution of Fully Vaccinated People Per Country');"
   ]
  },
  {
   "cell_type": "markdown",
   "metadata": {},
   "source": [
    "The histogram above shows that countries who have majority of fully vaccinated people are numbered between 15,000 (10^5) and 100,000,000 (10^8).\n",
    "The data is highly skewed, it is therefore shown in units of log space, to show the actual shape of the data."
   ]
  },
  {
   "cell_type": "code",
   "execution_count": 290,
   "metadata": {},
   "outputs": [
    {
     "data": {
      "image/png": "[encoded data removed]",
      "text/plain": [
       "<Figure size 648x360 with 1 Axes>"
      ]
     },
     "metadata": {
      "needs_background": "light"
     },
     "output_type": "display_data"
    }
   ],
   "source": [
    "ax3 = sns.histplot(data=totals, x='people_vaccinated_per_hundred', stat='percent');\n",
    "ax3.set_ylabel('Country Proportion (Percent)')\n",
    "ax3.set_title('Distribution of Vaccinated People Per Hundred Per Country');"
   ]
  },
  {
   "cell_type": "markdown",
   "metadata": {},
   "source": [
    "The histogram above shows that about 27 percent of countries have the highest number of vaccinations per hundred people, which is between 70 and 80 people."
   ]
  },
  {
   "cell_type": "code",
   "execution_count": 348,
   "metadata": {},
   "outputs": [
    {
     "data": {
      "image/png": "[encoded data removed]",
      "text/plain": [
       "<Figure size 648x360 with 1 Axes>"
      ]
     },
     "metadata": {
      "needs_background": "light"
     },
     "output_type": "display_data"
    }
   ],
   "source": [
    "ax4 = sns.scatterplot(data=totals, x='people_vaccinated_per_hundred', y='people_fully_vaccinated_per_hundred')\n",
    "ax4.set_title('Relationship Between People Vaccinated and Fully Vaccinated Per Hundred People');"
   ]
  },
  {
   "cell_type": "markdown",
   "metadata": {},
   "source": [
    "The above shows an interesting pattern. The relationship is mostly linear, suggesting that for most countries along the traceable line, people vaccinated and fully vaccinated per hundred are the same i.e. the population is totally vaccinated. The straggling points below the line show the countries who are yet to achieve full vaccination."
   ]
  },
  {
   "cell_type": "code",
   "execution_count": 351,
   "metadata": {},
   "outputs": [],
   "source": [
    "daily = covid_df[['date','daily_vaccinations']].resample('D', on='date').sum()"
   ]
  },
  {
   "cell_type": "code",
   "execution_count": 293,
   "metadata": {},
   "outputs": [
    {
     "data": {
      "image/png": "[encoded data removed]",
      "text/plain": [
       "<Figure size 648x360 with 1 Axes>"
      ]
     },
     "metadata": {
      "needs_background": "light"
     },
     "output_type": "display_data"
    }
   ],
   "source": [
    "ax5 = sns.lineplot(data=daily)\n",
    "ax5.set_title('Trend of Total Daily Vaccinations Worldwide');\n",
    "format_func = lambda x,pos: f'{int(x/1000000)}M'\n",
    "ax5.yaxis.set_major_formatter(FuncFormatter(format_func))"
   ]
  },
  {
   "cell_type": "markdown",
   "metadata": {},
   "source": [
    "The above plot shows a steady rise in vaccinations from December 2020 up till July 2021, after which we observe a decline till date, which is largely due to those countries who have fully vaccinated majority of their population."
   ]
  },
  {
   "cell_type": "markdown",
   "metadata": {},
   "source": [
    "## Asking and Answering Questions\n",
    "\n",
    "The following questions will be posed about the dataset in order to achieve indepth insight:\n",
    "- What are the top 10 countries with the highest number of total vaccinations?\n",
    "- What are the top 10 countries with the highest number of vaccinations per hundred people?\n",
    "- What are the top 10 countries with the highest daily vaccination per million people?\n",
    "- What are the unique types of vaccines being deployed worldwide?\n",
    "- What is the popularity of each vaccine being used worldwide?"
   ]
  },
  {
   "cell_type": "markdown",
   "metadata": {},
   "source": [
    "#### Q1: What are the top 10 countries with the highest number of total vaccinations?"
   ]
  },
  {
   "cell_type": "code",
   "execution_count": 311,
   "metadata": {},
   "outputs": [
    {
     "data": {
      "image/png": "[encoded data removed]",
      "text/plain": [
       "<Figure size 648x360 with 1 Axes>"
      ]
     },
     "metadata": {
      "needs_background": "light"
     },
     "output_type": "display_data"
    }
   ],
   "source": [
    "top_total_vaccinations = totals.sort_values('total_vaccinations', ascending=False)[['country', 'total_vaccinations']].head(10)\n",
    "ax6 = sns.barplot(data=top_total_vaccinations, x='country', y='total_vaccinations')\n",
    "ax6.set_title('Top Countries with Highest Number of Total Vaccinations');\n",
    "format_func = lambda x,pos: f'{int(x/1000000)}M'\n",
    "ax6.yaxis.set_major_formatter(FuncFormatter(format_func))\n",
    "ax6.tick_params(axis='x', rotation=45)"
   ]
  },
  {
   "cell_type": "markdown",
   "metadata": {},
   "source": [
    "China leads with the highest number of vaccinations in the world."
   ]
  },
  {
   "cell_type": "markdown",
   "metadata": {},
   "source": [
    "#### Q2: What are the top 10 countries with the highest number of vaccinations per hundred people?"
   ]
  },
  {
   "cell_type": "code",
   "execution_count": 352,
   "metadata": {},
   "outputs": [
    {
     "data": {
      "image/png": "[encoded data removed]",
      "text/plain": [
       "<Figure size 648x360 with 1 Axes>"
      ]
     },
     "metadata": {
      "needs_background": "light"
     },
     "output_type": "display_data"
    }
   ],
   "source": [
    "top_total_vaccinations = totals.sort_values('people_vaccinated_per_hundred', ascending=False)[['country', 'people_vaccinated_per_hundred']].head(10)\n",
    "ax6 = sns.barplot(data=top_total_vaccinations, y='country', x='people_vaccinated_per_hundred')\n",
    "ax6.set_title('Top Countries with Highest Number of People Vaccinated per Hundred');"
   ]
  },
  {
   "cell_type": "markdown",
   "metadata": {},
   "source": [
    "Gibraltar leads with the highest number of people vaccinated per hundred."
   ]
  },
  {
   "cell_type": "markdown",
   "metadata": {},
   "source": [
    "#### Q3: What are the top 10 countries with the highest daily vaccination per million people?"
   ]
  },
  {
   "cell_type": "code",
   "execution_count": 334,
   "metadata": {},
   "outputs": [
    {
     "data": {
      "text/html": [
       "<div>\n",
       "<style scoped>\n",
       "    .dataframe tbody tr th:only-of-type {\n",
       "        vertical-align: middle;\n",
       "    }\n",
       "\n",
       "    .dataframe tbody tr th {\n",
       "        vertical-align: top;\n",
       "    }\n",
       "\n",
       "    .dataframe thead th {\n",
       "        text-align: right;\n",
       "    }\n",
       "</style>\n",
       "<table border=\"1\" class=\"dataframe\">\n",
       "  <thead>\n",
       "    <tr style=\"text-align: right;\">\n",
       "      <th></th>\n",
       "      <th>daily_vaccinations_per_million</th>\n",
       "    </tr>\n",
       "    <tr>\n",
       "      <th>country</th>\n",
       "      <th></th>\n",
       "    </tr>\n",
       "  </thead>\n",
       "  <tbody>\n",
       "    <tr>\n",
       "      <th>Niue</th>\n",
       "      <td>36643.428571</td>\n",
       "    </tr>\n",
       "    <tr>\n",
       "      <th>Falkland Islands</th>\n",
       "      <td>21185.393939</td>\n",
       "    </tr>\n",
       "    <tr>\n",
       "      <th>Saint Helena</th>\n",
       "      <td>13915.164835</td>\n",
       "    </tr>\n",
       "    <tr>\n",
       "      <th>Cuba</th>\n",
       "      <td>13455.866667</td>\n",
       "    </tr>\n",
       "    <tr>\n",
       "      <th>Tokelau</th>\n",
       "      <td>12718.106195</td>\n",
       "    </tr>\n",
       "    <tr>\n",
       "      <th>Pitcairn</th>\n",
       "      <td>10891.797619</td>\n",
       "    </tr>\n",
       "    <tr>\n",
       "      <th>Nauru</th>\n",
       "      <td>9630.317241</td>\n",
       "    </tr>\n",
       "    <tr>\n",
       "      <th>Gibraltar</th>\n",
       "      <td>9170.714286</td>\n",
       "    </tr>\n",
       "    <tr>\n",
       "      <th>Bhutan</th>\n",
       "      <td>8140.132420</td>\n",
       "    </tr>\n",
       "    <tr>\n",
       "      <th>Bonaire Sint Eustatius and Saba</th>\n",
       "      <td>7412.000000</td>\n",
       "    </tr>\n",
       "  </tbody>\n",
       "</table>\n",
       "</div>"
      ],
      "text/plain": [
       "                                 daily_vaccinations_per_million\n",
       "country                                                        \n",
       "Niue                                               36643.428571\n",
       "Falkland Islands                                   21185.393939\n",
       "Saint Helena                                       13915.164835\n",
       "Cuba                                               13455.866667\n",
       "Tokelau                                            12718.106195\n",
       "Pitcairn                                           10891.797619\n",
       "Nauru                                               9630.317241\n",
       "Gibraltar                                           9170.714286\n",
       "Bhutan                                              8140.132420\n",
       "Bonaire Sint Eustatius and Saba                     7412.000000"
      ]
     },
     "execution_count": 334,
     "metadata": {},
     "output_type": "execute_result"
    }
   ],
   "source": [
    "highest_daily_vaccinations = covid_df[['country', 'daily_vaccinations_per_million']].groupby('country').mean().sort_values('daily_vaccinations_per_million', ascending=False).head(10)\n",
    "highest_daily_vaccinations"
   ]
  },
  {
   "cell_type": "markdown",
   "metadata": {},
   "source": [
    "The top 10 countries with highest daily vaccination rates are presented above. They are typically small island countries with a negligible population."
   ]
  },
  {
   "cell_type": "markdown",
   "metadata": {},
   "source": [
    "#### Q4: What are the unique types of vaccine being deployed worldwide?"
   ]
  },
  {
   "cell_type": "code",
   "execution_count": 323,
   "metadata": {},
   "outputs": [
    {
     "data": {
      "text/plain": [
       "0        Johnson&Johnson\n",
       "1     Oxford/AstraZeneca\n",
       "2        Pfizer/BioNTech\n",
       "3      Sinopharm/Beijing\n",
       "4                Sinovac\n",
       "5              Sputnik V\n",
       "6                Moderna\n",
       "7                CanSino\n",
       "8                Covaxin\n",
       "9        Sinopharm/Wuhan\n",
       "10                ZF2001\n",
       "11                Abdala\n",
       "12            Soberana02\n",
       "13       COVIran Barekat\n",
       "14                QazVac\n",
       "15         Sputnik Light\n",
       "16          EpiVacCorona\n",
       "17               Medigen\n",
       "dtype: object"
      ]
     },
     "execution_count": 323,
     "metadata": {},
     "output_type": "execute_result"
    }
   ],
   "source": [
    "vaccine_df.columns.to_series().reset_index(drop=True)"
   ]
  },
  {
   "cell_type": "markdown",
   "metadata": {},
   "source": [
    "There are 18 different types of vaccines being used over the world from different manufacturers."
   ]
  },
  {
   "cell_type": "markdown",
   "metadata": {},
   "source": [
    "#### Q5: What is the popularity of each vaccine being used worldwide?"
   ]
  },
  {
   "cell_type": "code",
   "execution_count": 345,
   "metadata": {},
   "outputs": [
    {
     "data": {
      "image/png": "[encoded data removed]",
      "text/plain": [
       "<Figure size 648x360 with 1 Axes>"
      ]
     },
     "metadata": {
      "needs_background": "light"
     },
     "output_type": "display_data"
    }
   ],
   "source": [
    "vaccine_popularity = vaccine_df.groupby(vaccine_df.index).mean().sum().sort_values(ascending=False).to_frame()\n",
    "vaccine_popularity.columns = ['Country Count']\n",
    "ax7 = sns.barplot(data=vaccine_popularity, x='Country Count', y=vaccine_popularity.index)\n",
    "ax7.set_title('Popularity of Vaccines by Country');"
   ]
  },
  {
   "cell_type": "markdown",
   "metadata": {},
   "source": [
    "Oxford/Astrazeneca is the most popular vaccine, used in over 160 countries."
   ]
  },
  {
   "cell_type": "markdown",
   "metadata": {},
   "source": [
    "## Inferences and Conclusion\n",
    "\n",
    "The following is a summary of the analysis carried out in this exploratory study:\n",
    "- Majority of countries have administered between 15,000 and 100,000,000 vaccinations. This corresponds roughly to the same amount of people that have been fully vaccinated.\n",
    "- 27 percent of countries have the highest number of vaccinations per hundred people, which is between 70 and 80 people.\n",
    "- Majority of countries have been able to achieve full vaccination per hundred people.\n",
    "- There was a steady rise in vaccinations from December 2020 up till July 2021, after which a decline was observed, which is largely due to those countries who have vaccinated majority of their population.\n",
    "- China leads with the most number of vaccinations worldwide.\n",
    "- Small island nations have the most vaccinations per million people due to their relatively small population size.\n",
    "- There are 18 vaccines being deployed worldwide, out of which the Oxford/Astrazeneca brand is the most used in over 160 countries."
   ]
  },
  {
   "cell_type": "markdown",
   "metadata": {},
   "source": [
    "## References and Future Work\n",
    "\n",
    "The COVID-19 dataset is being updated on a daily basis and it would be interesting to continue to observe the vaccination trend over time.\n",
    "\n",
    "References:\n",
    "- Daily and Total Vaccination for COVID-19 in the World from Our World in Data: https://www.kaggle.com/gpreda/covid-world-vaccination-progress"
   ]
  }
 ],
 "metadata": {
  "language_info": {
   "codemirror_mode": {
    "name": "ipython",
    "version": 3
   },
   "file_extension": ".py",
   "mimetype": "text/x-python",
   "name": "python",
   "nbconvert_exporter": "python",
   "pygments_lexer": "ipython3",
   "version": "3.9.6"
  }
 },
 "nbformat": 4,
 "nbformat_minor": 4
}
