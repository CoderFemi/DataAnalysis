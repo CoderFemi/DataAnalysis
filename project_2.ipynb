{
 "cells": [
  {
   "cell_type": "code",
   "execution_count": null,
   "metadata": {},
   "outputs": [],
   "source": [
    "import pandas as pd\n",
    "import math"
   ]
  },
  {
   "cell_type": "code",
   "execution_count": null,
   "metadata": {},
   "outputs": [],
   "source": [
    "# Read data from file\n",
    "result = pd.read_csv('./data/adult.data.csv')\n",
    "\n",
    "df = pd.DataFrame(result)\n",
    "\n",
    "# How many of each race are represented in this dataset? This should be a Pandas series with race names as the index labels.\n",
    "race_count = df.race.value_counts(dropna=False)\n",
    "\n",
    "# What is the average age of men?\n",
    "average_ages = df[['age', 'sex']].groupby('sex').mean()\n",
    "average_age_men = round(average_ages.age.Male, 1)\n",
    "\n",
    "# What is the percentage of people who have a Bachelor's degree?\n",
    "bachelors_count = df['education'][df.education ==\n",
    "                                  'Bachelors'].value_counts().sum()\n",
    "percentage_bachelors = round((bachelors_count / df.shape[0]) * 100, 1)\n",
    "\n",
    "# What percentage of people with advanced education (`Bachelors`, `Masters`, or `Doctorate`) make more than 50K?\n",
    "# What percentage of people without advanced education make more than 50K?\n",
    "\n",
    "# with and without `Bachelors`, `Masters`, or `Doctorate`\n",
    "bachelors = df.education == 'Bachelors'\n",
    "masters = df.education == 'Masters'\n",
    "doctorate = df.education == 'Doctorate'\n",
    "is_higher_df = pd.concat([bachelors, masters, doctorate], axis=1)\n",
    "is_higher = is_higher_df.any(axis='columns')\n",
    "higher_education_all = df[['education']][is_higher].value_counts().sum()\n",
    "lower_education_all = df[['education']][~is_higher].value_counts().sum()\n",
    "higher_education_rich_count = df[['education', 'salary']\n",
    "                                 ][is_higher][df.salary == '>50K'].value_counts().sum()\n",
    "lower_education_rich_count = df[['education', 'salary']\n",
    "                                ][~is_higher][df.salary == '>50K'].value_counts().sum()\n",
    "total_count = df.shape[0]\n",
    "result_one = (higher_education_rich_count / higher_education_all) * 100\n",
    "result_two = (lower_education_rich_count / lower_education_all) * 100\n",
    "higher_education_rich = round(result_one, 1)\n",
    "lower_education_rich = round(result_two, 1)\n",
    "\n",
    "# percentage with salary >50K\n",
    "\n",
    "\n",
    "# What is the minimum number of hours a person works per week (hours-per-week feature)?\n",
    "min_work_hours = df['hours-per-week'].min()\n",
    "\n",
    "# What percentage of the people who work the minimum number of hours per week have a salary of >50K?\n",
    "num_min_workers = df[['hours-per-week', 'salary']\n",
    "                     ][df['hours-per-week'] == min_work_hours].value_counts().sum()\n",
    "rich_min_workers = df[['hours-per-week', 'salary']][df['hours-per-week']\n",
    "                                                    == min_work_hours][df.salary == '>50K'].value_counts().sum()\n",
    "rich_percentage = round((rich_min_workers / num_min_workers) * 100)\n",
    "\n",
    "# What country has the highest percentage of people that earn >50K?\n",
    "highest_countries = df[['native-country']\n",
    "                       ][df.salary == '>50K'].value_counts().sort_index()\n",
    "country_count = df['native-country'].value_counts().sort_index()\n",
    "highest_earning_countries = highest_countries.divide(\n",
    "    country_count, fill_value=0, level=0)\n",
    "highest_earning_country_percentage = highest_earning_countries.max()\n",
    "result = ''\n",
    "for key, value in highest_earning_countries.to_dict().items():\n",
    "    if value == highest_earning_country_percentage:\n",
    "        result = key[0]\n",
    "        break\n",
    "highest_earning_country = result\n",
    "highest_earning_country_percentage = round(\n",
    "    highest_earning_country_percentage * 100, 1)\n",
    "\n",
    "# Identify the most popular occupation for those who earn >50K in India.\n",
    "highest_earning_india = df[['native-country', 'salary', 'occupation']\n",
    "                           ][df['native-country'] == 'India'][df.salary == '>50K']\n",
    "highest_occupation = highest_earning_india.occupation.value_counts()\n",
    "highest_occupation_count = highest_occupation.max()\n",
    "top_IN_occupation = highest_occupation[highest_occupation ==\n",
    "                                       highest_occupation_count].index[0]\n"
   ]
  },
  {
   "cell_type": "code",
   "execution_count": null,
   "metadata": {},
   "outputs": [],
   "source": [
    "df.info()"
   ]
  },
  {
   "cell_type": "code",
   "execution_count": null,
   "metadata": {},
   "outputs": [],
   "source": [
    "df.shape"
   ]
  },
  {
   "cell_type": "code",
   "execution_count": null,
   "metadata": {},
   "outputs": [],
   "source": [
    "df.size"
   ]
  },
  {
   "cell_type": "code",
   "execution_count": null,
   "metadata": {},
   "outputs": [],
   "source": [
    "df.head()"
   ]
  },
  {
   "cell_type": "code",
   "execution_count": null,
   "metadata": {},
   "outputs": [],
   "source": [
    "race_count = df.race.value_counts(dropna=False)\n",
    "print(race_count)"
   ]
  },
  {
   "cell_type": "code",
   "execution_count": null,
   "metadata": {},
   "outputs": [],
   "source": [
    "# filter_men = df.sex == 'Male'\n",
    "# age = df.age\n",
    "# mens_ages = age[filter_men]\n",
    "\n",
    "# age_sex = df[['age', 'sex']]\n",
    "# mens_ages = age_sex[age_sex.sex == 'Male']\n",
    "# average_age_men = mens_ages.age.mean()\n",
    "# average_age_men\n",
    "\n",
    "average_ages = df[['age', 'sex']].groupby('sex').mean()\n",
    "average_age_men = round(average_ages.age.Male, 1)\n",
    "print(average_age_men)"
   ]
  },
  {
   "cell_type": "code",
   "execution_count": 29,
   "metadata": {},
   "outputs": [
    {
     "name": "stdout",
     "output_type": "stream",
     "text": [
      "16.4\n"
     ]
    }
   ],
   "source": [
    "bachelors_count = df['education'][df.education == 'Bachelors'].value_counts().sum()\n",
    "percentage_bachelors = round((bachelors_count / df.shape[0]) * 100, 1)\n",
    "print(percentage_bachelors)\n"
   ]
  },
  {
   "cell_type": "code",
   "execution_count": null,
   "metadata": {},
   "outputs": [],
   "source": [
    "bachelors = df.education == 'Bachelors'\n",
    "masters = df.education == 'Masters'\n",
    "doctorate = df.education == 'Doctorate'\n",
    "is_higher_df = pd.concat([bachelors, masters, doctorate], axis=1)\n",
    "is_higher = is_higher_df.any(axis='columns')\n",
    "higher_education_all = df[['education']][is_higher].value_counts().sum()\n",
    "lower_education_all = df[['education']][~is_higher].value_counts().sum()\n",
    "higher_education_rich_count = df[['education', 'salary']][is_higher][df.salary == '>50K'].value_counts().sum()\n",
    "lower_education_rich_count = df[['education', 'salary']][~is_higher][df.salary == '>50K'].value_counts().sum()\n",
    "total_count = df.shape[0]\n",
    "result_one = (higher_education_rich_count / higher_education_all) * 100\n",
    "result_two = (lower_education_rich_count / lower_education_all) * 100\n",
    "higher_education_rich = round(result_one, 1)\n",
    "lower_education_rich = round(result_two, 1)\n",
    "\n",
    "print(higher_education_rich)\n",
    "print(lower_education_rich)"
   ]
  },
  {
   "cell_type": "code",
   "execution_count": null,
   "metadata": {},
   "outputs": [],
   "source": [
    "min_work_hours = df['hours-per-week'].min()\n",
    "print(min_work_hours)"
   ]
  },
  {
   "cell_type": "markdown",
   "metadata": {},
   "source": []
  },
  {
   "cell_type": "code",
   "execution_count": 35,
   "metadata": {},
   "outputs": [
    {
     "name": "stdout",
     "output_type": "stream",
     "text": [
      "20\n",
      "10\n"
     ]
    },
    {
     "name": "stderr",
     "output_type": "stream",
     "text": [
      "C:\\Users\\Femi\\AppData\\Local\\Temp/ipykernel_10408/875480423.py:2: UserWarning: Boolean Series key will be reindexed to match DataFrame index.\n",
      "  rich_min_workers = df[['hours-per-week', 'salary']][df['hours-per-week'] == min_work_hours][df.salary == '>50K'].value_counts().sum()\n"
     ]
    }
   ],
   "source": [
    "num_min_workers = df[['hours-per-week', 'salary']][df['hours-per-week'] == min_work_hours].value_counts().sum()\n",
    "rich_min_workers = df[['hours-per-week', 'salary']][df['hours-per-week'] == min_work_hours][df.salary == '>50K'].value_counts().sum()\n",
    "rich_percentage = round((rich_min_workers / num_min_workers) * 100)\n",
    "print(num_min_workers)\n",
    "print(rich_percentage)\n"
   ]
  },
  {
   "cell_type": "code",
   "execution_count": null,
   "metadata": {},
   "outputs": [],
   "source": [
    "highest_countries = df[['native-country']][df.salary == '>50K'].value_counts().sort_index()\n",
    "country_count = df['native-country'].value_counts().sort_index()\n",
    "highest_earning_countries = highest_countries.divide(country_count, fill_value=0, level=0)\n",
    "highest_earning_country_percentage = highest_earning_countries.max()\n",
    "result = ''\n",
    "for key, value in highest_earning_countries.to_dict().items():\n",
    "    if value == highest_earning_country_percentage:\n",
    "        result = key[0]\n",
    "        break\n",
    "highest_earning_country = result\n",
    "highest_earning_country_percentage = round(highest_earning_country_percentage * 100, 1)\n",
    "\n",
    "print(highest_earning_country)\n",
    "print(highest_earning_country_percentage)\n"
   ]
  },
  {
   "cell_type": "code",
   "execution_count": null,
   "metadata": {},
   "outputs": [],
   "source": [
    "highest_earning_india = df[['native-country', 'salary', 'occupation']][df['native-country'] == 'India'][df.salary == '>50K']\n",
    "highest_occupation = highest_earning_india.occupation.value_counts()\n",
    "highest_occupation_count = highest_occupation.max()\n",
    "top_IN_occupation = highest_occupation[highest_occupation == highest_occupation_count].index[0]\n",
    "print(top_IN_occupation)"
   ]
  }
 ],
 "metadata": {
  "interpreter": {
   "hash": "8263c30dae88c7deb5f2befe9b0657c9420e8088ef89476a44a8b117d369addb"
  },
  "kernelspec": {
   "display_name": "Python 3.8.3 32-bit",
   "name": "python3"
  },
  "language_info": {
   "codemirror_mode": {
    "name": "ipython",
    "version": 3
   },
   "file_extension": ".py",
   "mimetype": "text/x-python",
   "name": "python",
   "nbconvert_exporter": "python",
   "pygments_lexer": "ipython3",
   "version": "3.8.3"
  },
  "orig_nbformat": 4
 },
 "nbformat": 4,
 "nbformat_minor": 2
}
