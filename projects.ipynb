{
 "cells": [
  {
   "cell_type": "code",
   "execution_count": 30,
   "metadata": {},
   "outputs": [],
   "source": [
    "import numpy as np\n",
    "from typing import Dict, List"
   ]
  },
  {
   "cell_type": "code",
   "execution_count": 37,
   "metadata": {},
   "outputs": [],
   "source": [
    "arr = [24,69,81,25,12,42,31,22,8]\n",
    "arr2 = [2, 6, 2, 8, 4, 0, 1, 5, 7]\n"
   ]
  },
  {
   "cell_type": "code",
   "execution_count": 43,
   "metadata": {},
   "outputs": [
    {
     "data": {
      "text/plain": [
       "{'mean': [[3.6666666666666665, 5.0, 3.0],\n",
       "  [3.3333333333333335, 4.0, 4.333333333333333],\n",
       "  3.888888888888889],\n",
       " 'variance': [[9.555555555555557, 0.6666666666666666, 8.666666666666666],\n",
       "  [3.555555555555556, 10.666666666666666, 6.222222222222221],\n",
       "  6.987654320987654],\n",
       " 'standard deviation': [[3.091206165165235,\n",
       "   0.816496580927726,\n",
       "   2.943920288775949],\n",
       "  [1.8856180831641267, 3.265986323710904, 2.494438257849294],\n",
       "  2.6434171674156266],\n",
       " 'max': [[8, 6, 7], [6, 8, 7], 8],\n",
       " 'min': [[1, 4, 0], [2, 0, 1], 0],\n",
       " 'sum': [[11, 15, 9], [10, 12, 13], 35]}"
      ]
     },
     "execution_count": 43,
     "metadata": {},
     "output_type": "execute_result"
    }
   ],
   "source": [
    "def calculate(list:List[int]) -> Dict[str, List]:\n",
    "    num_elements = len(list)\n",
    "    if num_elements < 9:\n",
    "        raise ValueError('List must contain nine numbers.')\n",
    "\n",
    "    calculations = {}\n",
    "    matrix = np.reshape(list, (3,3))\n",
    "    keys = {'mean':np.mean, 'variance':np.var, 'standard deviation':np.std, 'max':np.max, 'min':np.min, 'sum':np.sum}\n",
    "\n",
    "    for key,func in keys.items():\n",
    "        axis_one = func(matrix, axis=0)\n",
    "        axis_two = func(matrix, axis=1)\n",
    "        flat = func(list)\n",
    "        calculations[key] = [axis_one.tolist(), axis_two.tolist(), flat]\n",
    "    \n",
    "    return calculations\n",
    "\n",
    "\n",
    "calculate(arr2)\n"
   ]
  }
 ],
 "metadata": {
  "interpreter": {
   "hash": "8263c30dae88c7deb5f2befe9b0657c9420e8088ef89476a44a8b117d369addb"
  },
  "kernelspec": {
   "display_name": "Python 3.8.3 32-bit",
   "name": "python3"
  },
  "language_info": {
   "codemirror_mode": {
    "name": "ipython",
    "version": 3
   },
   "file_extension": ".py",
   "mimetype": "text/x-python",
   "name": "python",
   "nbconvert_exporter": "python",
   "pygments_lexer": "ipython3",
   "version": "3.8.3"
  },
  "orig_nbformat": 4
 },
 "nbformat": 4,
 "nbformat_minor": 2
}
